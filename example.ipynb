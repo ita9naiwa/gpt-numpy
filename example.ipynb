{
 "cells": [
  {
   "cell_type": "code",
   "execution_count": 1,
   "id": "1348d7ad",
   "metadata": {},
   "outputs": [],
   "source": [
    "import numpy as np\n",
    "from scipy.special import softmax\n",
    "\n",
    "from encoder import get_encoder\n",
    "from model import gpt2Model\n"
   ]
  },
  {
   "cell_type": "code",
   "execution_count": 2,
   "id": "36aa6130",
   "metadata": {},
   "outputs": [],
   "source": [
    "from run import sample\n",
    "from run import generate"
   ]
  },
  {
   "cell_type": "code",
   "execution_count": 3,
   "id": "c2775222",
   "metadata": {},
   "outputs": [
    {
     "name": "stdout",
     "output_type": "stream",
     "text": [
      "loading hyper-parameters...\n",
      "loading varaible model/h0/attn/c_attn/b\n",
      "loading varaible model/h0/attn/c_attn/w\n",
      "loading varaible model/h0/attn/c_proj/b\n",
      "loading varaible model/h0/attn/c_proj/w\n",
      "loading varaible model/h0/ln_1/b\n",
      "loading varaible model/h0/ln_1/g\n",
      "loading varaible model/h0/ln_2/b\n",
      "loading varaible model/h0/ln_2/g\n",
      "loading varaible model/h0/mlp/c_fc/b\n",
      "loading varaible model/h0/mlp/c_fc/w\n",
      "loading varaible model/h0/mlp/c_proj/b\n",
      "loading varaible model/h0/mlp/c_proj/w\n",
      "loading varaible model/h1/attn/c_attn/b\n",
      "loading varaible model/h1/attn/c_attn/w\n",
      "loading varaible model/h1/attn/c_proj/b\n",
      "loading varaible model/h1/attn/c_proj/w\n",
      "loading varaible model/h1/ln_1/b\n",
      "loading varaible model/h1/ln_1/g\n",
      "loading varaible model/h1/ln_2/b\n",
      "loading varaible model/h1/ln_2/g\n",
      "loading varaible model/h1/mlp/c_fc/b\n",
      "loading varaible model/h1/mlp/c_fc/w\n",
      "loading varaible model/h1/mlp/c_proj/b\n",
      "loading varaible model/h1/mlp/c_proj/w\n",
      "loading varaible model/h10/attn/c_attn/b\n",
      "loading varaible model/h10/attn/c_attn/w\n",
      "loading varaible model/h10/attn/c_proj/b\n",
      "loading varaible model/h10/attn/c_proj/w\n",
      "loading varaible model/h10/ln_1/b\n",
      "loading varaible model/h10/ln_1/g\n",
      "loading varaible model/h10/ln_2/b\n",
      "loading varaible model/h10/ln_2/g\n",
      "loading varaible model/h10/mlp/c_fc/b\n",
      "loading varaible model/h10/mlp/c_fc/w\n",
      "loading varaible model/h10/mlp/c_proj/b\n",
      "loading varaible model/h10/mlp/c_proj/w\n",
      "loading varaible model/h11/attn/c_attn/b\n",
      "loading varaible model/h11/attn/c_attn/w\n",
      "loading varaible model/h11/attn/c_proj/b\n",
      "loading varaible model/h11/attn/c_proj/w\n",
      "loading varaible model/h11/ln_1/b\n",
      "loading varaible model/h11/ln_1/g\n",
      "loading varaible model/h11/ln_2/b\n",
      "loading varaible model/h11/ln_2/g\n",
      "loading varaible model/h11/mlp/c_fc/b\n",
      "loading varaible model/h11/mlp/c_fc/w\n",
      "loading varaible model/h11/mlp/c_proj/b\n",
      "loading varaible model/h11/mlp/c_proj/w\n",
      "loading varaible model/h2/attn/c_attn/b\n",
      "loading varaible model/h2/attn/c_attn/w\n",
      "loading varaible model/h2/attn/c_proj/b\n",
      "loading varaible model/h2/attn/c_proj/w\n",
      "loading varaible model/h2/ln_1/b\n",
      "loading varaible model/h2/ln_1/g\n",
      "loading varaible model/h2/ln_2/b\n",
      "loading varaible model/h2/ln_2/g\n",
      "loading varaible model/h2/mlp/c_fc/b\n",
      "loading varaible model/h2/mlp/c_fc/w\n",
      "loading varaible model/h2/mlp/c_proj/b\n",
      "loading varaible model/h2/mlp/c_proj/w\n",
      "loading varaible model/h3/attn/c_attn/b\n",
      "loading varaible model/h3/attn/c_attn/w\n",
      "loading varaible model/h3/attn/c_proj/b\n",
      "loading varaible model/h3/attn/c_proj/w\n",
      "loading varaible model/h3/ln_1/b\n",
      "loading varaible model/h3/ln_1/g\n",
      "loading varaible model/h3/ln_2/b\n",
      "loading varaible model/h3/ln_2/g\n",
      "loading varaible model/h3/mlp/c_fc/b\n",
      "loading varaible model/h3/mlp/c_fc/w\n",
      "loading varaible model/h3/mlp/c_proj/b\n",
      "loading varaible model/h3/mlp/c_proj/w\n",
      "loading varaible model/h4/attn/c_attn/b\n",
      "loading varaible model/h4/attn/c_attn/w\n",
      "loading varaible model/h4/attn/c_proj/b\n",
      "loading varaible model/h4/attn/c_proj/w\n",
      "loading varaible model/h4/ln_1/b\n",
      "loading varaible model/h4/ln_1/g\n",
      "loading varaible model/h4/ln_2/b\n",
      "loading varaible model/h4/ln_2/g\n",
      "loading varaible model/h4/mlp/c_fc/b\n",
      "loading varaible model/h4/mlp/c_fc/w\n",
      "loading varaible model/h4/mlp/c_proj/b\n",
      "loading varaible model/h4/mlp/c_proj/w\n",
      "loading varaible model/h5/attn/c_attn/b\n",
      "loading varaible model/h5/attn/c_attn/w\n",
      "loading varaible model/h5/attn/c_proj/b\n",
      "loading varaible model/h5/attn/c_proj/w\n",
      "loading varaible model/h5/ln_1/b\n",
      "loading varaible model/h5/ln_1/g\n",
      "loading varaible model/h5/ln_2/b\n",
      "loading varaible model/h5/ln_2/g\n",
      "loading varaible model/h5/mlp/c_fc/b\n",
      "loading varaible model/h5/mlp/c_fc/w\n",
      "loading varaible model/h5/mlp/c_proj/b\n",
      "loading varaible model/h5/mlp/c_proj/w\n",
      "loading varaible model/h6/attn/c_attn/b\n",
      "loading varaible model/h6/attn/c_attn/w\n",
      "loading varaible model/h6/attn/c_proj/b\n",
      "loading varaible model/h6/attn/c_proj/w\n",
      "loading varaible model/h6/ln_1/b\n",
      "loading varaible model/h6/ln_1/g\n",
      "loading varaible model/h6/ln_2/b\n",
      "loading varaible model/h6/ln_2/g\n",
      "loading varaible model/h6/mlp/c_fc/b\n",
      "loading varaible model/h6/mlp/c_fc/w\n",
      "loading varaible model/h6/mlp/c_proj/b\n",
      "loading varaible model/h6/mlp/c_proj/w\n",
      "loading varaible model/h7/attn/c_attn/b\n",
      "loading varaible model/h7/attn/c_attn/w\n",
      "loading varaible model/h7/attn/c_proj/b\n",
      "loading varaible model/h7/attn/c_proj/w\n",
      "loading varaible model/h7/ln_1/b\n",
      "loading varaible model/h7/ln_1/g\n",
      "loading varaible model/h7/ln_2/b\n",
      "loading varaible model/h7/ln_2/g\n",
      "loading varaible model/h7/mlp/c_fc/b\n",
      "loading varaible model/h7/mlp/c_fc/w\n",
      "loading varaible model/h7/mlp/c_proj/b\n",
      "loading varaible model/h7/mlp/c_proj/w\n",
      "loading varaible model/h8/attn/c_attn/b\n",
      "loading varaible model/h8/attn/c_attn/w\n",
      "loading varaible model/h8/attn/c_proj/b\n",
      "loading varaible model/h8/attn/c_proj/w\n",
      "loading varaible model/h8/ln_1/b\n",
      "loading varaible model/h8/ln_1/g\n",
      "loading varaible model/h8/ln_2/b\n",
      "loading varaible model/h8/ln_2/g\n",
      "loading varaible model/h8/mlp/c_fc/b\n",
      "loading varaible model/h8/mlp/c_fc/w\n",
      "loading varaible model/h8/mlp/c_proj/b\n",
      "loading varaible model/h8/mlp/c_proj/w\n",
      "loading varaible model/h9/attn/c_attn/b\n",
      "loading varaible model/h9/attn/c_attn/w\n",
      "loading varaible model/h9/attn/c_proj/b\n",
      "loading varaible model/h9/attn/c_proj/w\n",
      "loading varaible model/h9/ln_1/b\n",
      "loading varaible model/h9/ln_1/g\n",
      "loading varaible model/h9/ln_2/b\n",
      "loading varaible model/h9/ln_2/g\n",
      "loading varaible model/h9/mlp/c_fc/b\n",
      "loading varaible model/h9/mlp/c_fc/w\n",
      "loading varaible model/h9/mlp/c_proj/b\n",
      "loading varaible model/h9/mlp/c_proj/w\n",
      "loading varaible model/ln_f/b\n",
      "loading varaible model/ln_f/g\n",
      "loading varaible model/wpe\n",
      "loading varaible model/wte\n",
      "processing done!\n"
     ]
    }
   ],
   "source": [
    "dir_model = \"./models/gpt-2-117M\"\n",
    "model = gpt2Model()\n",
    "model.load(dir_model)\n",
    "gpt_encoder = get_encoder(dir_model)"
   ]
  },
  {
   "cell_type": "code",
   "execution_count": 4,
   "id": "55ee9714",
   "metadata": {},
   "outputs": [
    {
     "name": "stdout",
     "output_type": "stream",
     "text": [
      "generating sentences from `Hello, world!`\n"
     ]
    }
   ],
   "source": [
    "input_prompt = \"Hello, world!\"\n",
    "print(\"generating sentences from `%s`\" % input_prompt)"
   ]
  },
  {
   "cell_type": "code",
   "execution_count": 5,
   "id": "29533a0c",
   "metadata": {},
   "outputs": [],
   "source": [
    "generated_sentence = generate(gpt_encoder, model, input_prompt, max_length=50)"
   ]
  },
  {
   "cell_type": "code",
   "execution_count": 6,
   "id": "18e8e332",
   "metadata": {},
   "outputs": [
    {
     "name": "stdout",
     "output_type": "stream",
     "text": [
      "generated sentences are:\n",
      "Hello, world! Why don't you try driving! Damn it, up that line or it's perfectly allowed onto the hot lane! You drove rather nicely and perfect! -- Martyn,\" joked Roderick Cancellar, with the cackle of Cheech and\n"
     ]
    }
   ],
   "source": [
    "print(\"generated sentences are:\")\n",
    "print(generated_sentence)"
   ]
  }
 ],
 "metadata": {
  "kernelspec": {
   "display_name": "Python 3 (ipykernel)",
   "language": "python",
   "name": "python3"
  },
  "language_info": {
   "codemirror_mode": {
    "name": "ipython",
    "version": 3
   },
   "file_extension": ".py",
   "mimetype": "text/x-python",
   "name": "python",
   "nbconvert_exporter": "python",
   "pygments_lexer": "ipython3",
   "version": "3.9.10"
  }
 },
 "nbformat": 4,
 "nbformat_minor": 5
}
